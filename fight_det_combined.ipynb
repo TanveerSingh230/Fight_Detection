{
 "cells": [
  {
   "cell_type": "markdown",
   "id": "59527a43-03c2-474d-8e2d-227432561d4d",
   "metadata": {},
   "source": [
    "#### YOLOv8 Training"
   ]
  },
  {
   "cell_type": "code",
   "execution_count": null,
   "id": "d3a1103d-d205-4ec5-a354-5db76a9fc69d",
   "metadata": {},
   "outputs": [],
   "source": [
    "!pip install ultralytics\n",
    "!pip install roboflow"
   ]
  },
  {
   "cell_type": "code",
   "execution_count": null,
   "id": "c091e832-b0b0-4fdf-ab37-6e8e361387fc",
   "metadata": {},
   "outputs": [],
   "source": [
    "import ultralytics\n",
    "from ultralytics import YOLO\n",
    "from IPython.display import Image\n",
    "from roboflow import Roboflow"
   ]
  },
  {
   "cell_type": "code",
   "execution_count": null,
   "id": "ce6cc987-ef4b-4739-9469-f3a6f8c56799",
   "metadata": {},
   "outputs": [],
   "source": [
    "\n",
    "rf = Roboflow(api_key=\"your api key\")\n",
    "project = rf.workspace(\"fight-detection\").project(\"fight-detection-new\")\n",
    "version = project.version(3)\n",
    "dataset = version.download(\"yolov8\")\n"
   ]
  },
  {
   "cell_type": "code",
   "execution_count": null,
   "id": "2abd4e53-52be-4fd7-81ec-33c3a0b23b60",
   "metadata": {},
   "outputs": [],
   "source": [
    "!yolo task=detect mode=train model=yolov8m.pt data=/content/Fight-Detection-New-3/data.yaml batch=-1 epochs=100 save=True imgsz=640 patience=50 plots=True weight_decay=0.001\n"
   ]
  },
  {
   "cell_type": "code",
   "execution_count": null,
   "id": "fb573a58-2370-4b79-9807-f601b0ab2e53",
   "metadata": {},
   "outputs": [],
   "source": [
    "!yolo val model=/content/runs/detect/train/weights/best.pt data=/content/Fight-Detection-New-3/data.yaml split=test\n"
   ]
  },
  {
   "cell_type": "markdown",
   "id": "f917b6eb-05ef-42c0-86b9-3f3f6388ea35",
   "metadata": {},
   "source": [
    "#### YOLOv8 Implementation"
   ]
  },
  {
   "cell_type": "code",
   "execution_count": null,
   "id": "fe3ae19a-1062-4e80-81f1-1356102ce596",
   "metadata": {},
   "outputs": [],
   "source": [
    "import ultralytics\n",
    "from ultralytics import YOLO\n",
    "from IPython.display import Image"
   ]
  },
  {
   "cell_type": "code",
   "execution_count": null,
   "id": "dd1cf7f6-6007-46a3-844b-a4e05915fe66",
   "metadata": {},
   "outputs": [],
   "source": [
    "model = YOLO('fight_det_model.pt')\n",
    "# path of the model"
   ]
  },
  {
   "cell_type": "code",
   "execution_count": null,
   "id": "b2c4d16c-ff33-4381-b688-da5e8cab92bd",
   "metadata": {},
   "outputs": [],
   "source": [
    "model.predict(source=\"source vide path\", imgsz=640, conf=0.5, save=True, device=0)\n",
    "# source= video/image path\n"
   ]
  },
  {
   "cell_type": "markdown",
   "id": "70e4e933-9878-4e80-b1e4-e5d5e33be50a",
   "metadata": {},
   "source": [
    "#### YOLO-NAS Training"
   ]
  },
  {
   "cell_type": "code",
   "execution_count": null,
   "id": "8f24de9a-bf63-4856-8c81-c7c23c3b209b",
   "metadata": {},
   "outputs": [],
   "source": [
    "!pip install -q git+https://github.com/Deci-AI/super-gradients.git@stable\n",
    "!pip install -q roboflow\n",
    "!pip install -q supervision"
   ]
  },
  {
   "cell_type": "code",
   "execution_count": null,
   "id": "0f171e11-51e7-45cd-b615-2181cb1fcfac",
   "metadata": {},
   "outputs": [],
   "source": [
    "import os\n",
    "HOME = os.getcwd()\n",
    "print(HOME)"
   ]
  },
  {
   "cell_type": "code",
   "execution_count": null,
   "id": "3294a16c-ab8f-4020-8b65-b147c654a84c",
   "metadata": {},
   "outputs": [],
   "source": [
    "import torch\n",
    "\n",
    "DEVICE = 'cuda' if torch.cuda.is_available() else \"cpu\"\n",
    "MODEL_ARCH = 'yolo_nas_m'"
   ]
  },
  {
   "cell_type": "code",
   "execution_count": null,
   "id": "db465c35-7070-4fe3-8c06-04d98cc87146",
   "metadata": {},
   "outputs": [],
   "source": [
    "from super_gradients.training import models\n",
    "\n",
    "model = models.get(MODEL_ARCH, pretrained_weights=\"coco\").to(DEVICE)"
   ]
  },
  {
   "cell_type": "code",
   "execution_count": null,
   "id": "be1eb753-a4d4-41a8-9946-475a9fe93903",
   "metadata": {},
   "outputs": [],
   "source": [
    "%cd {HOME}\n",
    "!pip install roboflow\n",
    "\n",
    "from roboflow import Roboflow\n",
    "rf = Roboflow(api_key=\"your api key\")\n",
    "project = rf.workspace(\"fight-detection\").project(\"fight-detection-new\")\n",
    "version = project.version(11)\n",
    "dataset = version.download(\"yolov5\")\n"
   ]
  },
  {
   "cell_type": "code",
   "execution_count": null,
   "id": "54dfda8d-c379-44e6-8926-935a2b3d0bc3",
   "metadata": {},
   "outputs": [],
   "source": [
    "LOCATION = dataset.location\n",
    "print(\"location:\", LOCATION)\n",
    "CLASSES = sorted(project.classes.keys())\n",
    "print(\"classes:\", CLASSES)"
   ]
  },
  {
   "cell_type": "code",
   "execution_count": null,
   "id": "a1628764-6e59-46c6-b8fc-ab29dd13a7a0",
   "metadata": {},
   "outputs": [],
   "source": [
    "MODEL_ARCH = 'yolo_nas_m'\n",
    "BATCH_SIZE = 8\n",
    "MAX_EPOCHS = 100\n",
    "CHECKPOINT_DIR = f'{HOME}/checkpoints'\n",
    "EXPERIMENT_NAME = project.name.lower().replace(\" \", \"_\")"
   ]
  },
  {
   "cell_type": "code",
   "execution_count": null,
   "id": "27c865d3-3b6b-47dd-9701-165406e35658",
   "metadata": {},
   "outputs": [],
   "source": [
    "from super_gradients.training import Trainer\n",
    "\n",
    "trainer = Trainer(experiment_name=EXPERIMENT_NAME, ckpt_root_dir=CHECKPOINT_DIR)"
   ]
  },
  {
   "cell_type": "code",
   "execution_count": null,
   "id": "c7a160a9-2aed-48c5-948e-531051965e57",
   "metadata": {},
   "outputs": [],
   "source": [
    "dataset_params = {\n",
    "    'data_dir': LOCATION,\n",
    "    'train_images_dir':'train/images',\n",
    "    'train_labels_dir':'train/labels',\n",
    "    'val_images_dir':'valid/images',\n",
    "    'val_labels_dir':'valid/labels',\n",
    "    'test_images_dir':'test/images',\n",
    "    'test_labels_dir':'test/labels',\n",
    "    'classes': CLASSES\n",
    "}"
   ]
  },
  {
   "cell_type": "code",
   "execution_count": null,
   "id": "7a6c1b69-504b-47f9-a3d5-60c282209db4",
   "metadata": {},
   "outputs": [],
   "source": [
    "from super_gradients.training.dataloaders.dataloaders import (\n",
    "    coco_detection_yolo_format_train, coco_detection_yolo_format_val)\n",
    "\n",
    "train_data = coco_detection_yolo_format_train(\n",
    "    dataset_params={\n",
    "        'data_dir': dataset_params['data_dir'],\n",
    "        'images_dir': dataset_params['train_images_dir'],\n",
    "        'labels_dir': dataset_params['train_labels_dir'],\n",
    "        'classes': dataset_params['classes']\n",
    "    },\n",
    "    dataloader_params={\n",
    "        'batch_size': BATCH_SIZE,\n",
    "        'num_workers': 2\n",
    "    }\n",
    ")\n",
    "\n",
    "val_data = coco_detection_yolo_format_val(\n",
    "    dataset_params={\n",
    "        'data_dir': dataset_params['data_dir'],\n",
    "        'images_dir': dataset_params['val_images_dir'],\n",
    "        'labels_dir': dataset_params['val_labels_dir'],\n",
    "        'classes': dataset_params['classes']\n",
    "    },\n",
    "    dataloader_params={\n",
    "        'batch_size': BATCH_SIZE,\n",
    "        'num_workers': 2\n",
    "    }\n",
    ")\n",
    "\n",
    "test_data = coco_detection_yolo_format_val(\n",
    "    dataset_params={\n",
    "        'data_dir': dataset_params['data_dir'],\n",
    "        'images_dir': dataset_params['test_images_dir'],\n",
    "        'labels_dir': dataset_params['test_labels_dir'],\n",
    "        'classes': dataset_params['classes']\n",
    "    },\n",
    "    dataloader_params={\n",
    "        'batch_size': BATCH_SIZE,\n",
    "        'num_workers': 2\n",
    "    }\n",
    ")"
   ]
  },
  {
   "cell_type": "code",
   "execution_count": null,
   "id": "db068795-f47f-4587-a680-5048ac02e4ec",
   "metadata": {},
   "outputs": [],
   "source": [
    "train_data.dataset.transforms"
   ]
  },
  {
   "cell_type": "code",
   "execution_count": null,
   "id": "08e12c78-2f64-4799-93fc-dadcbb04218b",
   "metadata": {},
   "outputs": [],
   "source": [
    "from super_gradients.training import models\n",
    "\n",
    "model = models.get(\n",
    "    MODEL_ARCH,\n",
    "    num_classes=len(dataset_params['classes']),\n",
    "    pretrained_weights=\"coco\"\n",
    ")"
   ]
  },
  {
   "cell_type": "code",
   "execution_count": null,
   "id": "0d146b5a-8172-4505-aa74-977e8f6b8385",
   "metadata": {},
   "outputs": [],
   "source": [
    "from super_gradients.training.losses import PPYoloELoss\n",
    "from super_gradients.training.metrics import DetectionMetrics_050\n",
    "from super_gradients.training.models.detection_models.pp_yolo_e import PPYoloEPostPredictionCallback\n",
    "\n",
    "train_params = {\n",
    "    'silent_mode': False,\n",
    "    \"average_best_models\":True,\n",
    "    \"warmup_mode\": \"linear_epoch_step\",\n",
    "    \"warmup_initial_lr\": 1e-6,\n",
    "    \"lr_warmup_epochs\": 3,\n",
    "    \"initial_lr\": 5e-4,\n",
    "    \"lr_mode\": \"cosine\",\n",
    "    \"cosine_final_lr_ratio\": 0.1,\n",
    "    \"optimizer\": \"Adam\",\n",
    "    \"optimizer_params\": {\"weight_decay\": 0.0001},\n",
    "    \"zero_weight_decay_on_bias_and_bn\": True,\n",
    "    \"ema\": True,\n",
    "    \"ema_params\": {\"decay\": 0.9, \"decay_type\": \"threshold\"},\n",
    "    \"max_epochs\": MAX_EPOCHS,\n",
    "    \"mixed_precision\": True,\n",
    "    \"loss\": PPYoloELoss(\n",
    "        use_static_assigner=False,\n",
    "        num_classes=len(dataset_params['classes']),\n",
    "        reg_max=16\n",
    "    ),\n",
    "    \"valid_metrics_list\": [\n",
    "        DetectionMetrics_050(\n",
    "            score_thres=0.1,\n",
    "            top_k_predictions=300,\n",
    "            num_cls=len(dataset_params['classes']),\n",
    "            normalize_targets=True,\n",
    "            post_prediction_callback=PPYoloEPostPredictionCallback(\n",
    "                score_threshold=0.01,\n",
    "                nms_top_k=1000,\n",
    "                max_predictions=300,\n",
    "                nms_threshold=0.7\n",
    "            )\n",
    "        )\n",
    "    ],\n",
    "    \"metric_to_watch\": 'mAP@0.50'\n",
    "}"
   ]
  },
  {
   "cell_type": "code",
   "execution_count": null,
   "id": "77698f9a-3956-4329-ae42-f86c0c5caa04",
   "metadata": {},
   "outputs": [],
   "source": [
    "trainer.train(\n",
    "    model=model,\n",
    "    training_params=train_params,\n",
    "    train_loader=train_data,\n",
    "    valid_loader=val_data\n",
    ")"
   ]
  },
  {
   "cell_type": "code",
   "execution_count": null,
   "id": "4a8abb61-2940-4d33-b7bd-7d2eced0e4b7",
   "metadata": {},
   "outputs": [],
   "source": [
    "!zip -r yolo_nas.zip {CHECKPOINT_DIR}/{EXPERIMENT_NAME}"
   ]
  },
  {
   "cell_type": "code",
   "execution_count": null,
   "id": "346dfa72-4c74-4894-ad89-af5f90374ea9",
   "metadata": {},
   "outputs": [],
   "source": [
    "avg_model = models.get(\n",
    "    MODEL_ARCH,\n",
    "    num_classes=len(dataset_params['classes']),\n",
    "    checkpoint_path=\"average_model.pth\"\n",
    ").to(DEVICE)"
   ]
  },
  {
   "cell_type": "code",
   "execution_count": null,
   "id": "72ac914c-cc8d-4475-bae8-27af3e54b6bd",
   "metadata": {},
   "outputs": [],
   "source": [
    "trainer.test(\n",
    "    model=avg_model,\n",
    "    test_loader=test_data,\n",
    "    test_metrics_list=DetectionMetrics_050(\n",
    "        score_thres=0.1,\n",
    "        top_k_predictions=300,\n",
    "        num_cls=len(dataset_params['classes']),\n",
    "        normalize_targets=True,\n",
    "        post_prediction_callback=PPYoloEPostPredictionCallback(\n",
    "            score_threshold=0.01,\n",
    "            nms_top_k=1000,\n",
    "            max_predictions=300,\n",
    "            nms_threshold=0.7\n",
    "        )\n",
    "    )\n",
    ")"
   ]
  },
  {
   "cell_type": "code",
   "execution_count": null,
   "id": "b1ec1aec-297f-4ea4-a09c-56c728201c80",
   "metadata": {},
   "outputs": [],
   "source": [
    "best_model = models.get(\n",
    "    MODEL_ARCH,\n",
    "    num_classes=len(dataset_params['classes']),\n",
    "    checkpoint_path=\"ckpt_best.pth\"\n",
    ").to(DEVICE)"
   ]
  },
  {
   "cell_type": "code",
   "execution_count": null,
   "id": "bb8f1662-c6fa-4480-94ac-85f24e09ff74",
   "metadata": {},
   "outputs": [],
   "source": [
    "trainer.test(\n",
    "    model=best_model,\n",
    "    test_loader=test_data,\n",
    "    test_metrics_list=DetectionMetrics_050(\n",
    "        score_thres=0.1,\n",
    "        top_k_predictions=300,\n",
    "        num_cls=len(dataset_params['classes']),\n",
    "        normalize_targets=True,\n",
    "        post_prediction_callback=PPYoloEPostPredictionCallback(\n",
    "            score_threshold=0.01,\n",
    "            nms_top_k=1000,\n",
    "            max_predictions=300,\n",
    "            nms_threshold=0.7\n",
    "        )\n",
    "    )\n",
    ")"
   ]
  },
  {
   "cell_type": "markdown",
   "id": "77ab37d0-23e0-41d9-a301-cbf3d18e9a03",
   "metadata": {},
   "source": [
    "#### YOLO-NAS Implementation"
   ]
  },
  {
   "cell_type": "code",
   "execution_count": null,
   "id": "3e98af0d-8bc0-4a94-a3a5-ceffabd33d2a",
   "metadata": {},
   "outputs": [],
   "source": [
    "!pip install super_gradients\n",
    "!pip install imutils\n",
    "!pip install pytube --upgrade"
   ]
  },
  {
   "cell_type": "code",
   "execution_count": null,
   "id": "a4f5055c-4028-4eff-aab6-8417f8dbe369",
   "metadata": {},
   "outputs": [],
   "source": [
    "from super_gradients.training import models\n",
    "model = models.get('yolo_nas_m', \n",
    "                   num_classes=2, \n",
    "                   pretrained_weights=\"coco\"\n",
    "                   )"
   ]
  },
  {
   "cell_type": "code",
   "execution_count": null,
   "id": "c4302c55-a14e-4e53-98eb-ec5b157585ca",
   "metadata": {},
   "outputs": [],
   "source": [
    "best_model = models.get('yolo_nas_m',\n",
    "                        num_classes=2,\n",
    "                        checkpoint_path=\"average_model.pth\") # model path"
   ]
  },
  {
   "cell_type": "code",
   "execution_count": null,
   "id": "c7fc9e99-41c4-4ce1-ae87-0ba6255f26ef",
   "metadata": {},
   "outputs": [],
   "source": [
    "import torch\n",
    "device = 0 if torch.cuda.is_available() else \"cpu\"\n",
    "\n",
    "input_video_path = \"source video path\"\n",
    "output_video_path = \"output video path\"\n",
    "#device=0\n",
    "\n",
    "best_model.to(device).predict(input_video_path, conf=0.01).save(output_video_path)"
   ]
  },
  {
   "cell_type": "markdown",
   "id": "06e3cf2a-05c0-4b38-9966-76f6696668b5",
   "metadata": {},
   "source": [
    "#### YOLOv10 Training"
   ]
  },
  {
   "cell_type": "code",
   "execution_count": null,
   "id": "cb24b284-9a54-4d78-9537-502c25b7f108",
   "metadata": {},
   "outputs": [],
   "source": [
    "!git clone https://github.com/THU-MIG/yolov10.git"
   ]
  },
  {
   "cell_type": "code",
   "execution_count": null,
   "id": "b92297ba-0c95-4610-b0c2-c3fb8d892626",
   "metadata": {},
   "outputs": [],
   "source": [
    "%cd yolov10"
   ]
  },
  {
   "cell_type": "code",
   "execution_count": null,
   "id": "521bed64-2438-462e-959a-4b752feebaa9",
   "metadata": {},
   "outputs": [],
   "source": [
    "import os \n",
    "os.getcwd()"
   ]
  },
  {
   "cell_type": "code",
   "execution_count": null,
   "id": "f14a7996-f2db-48a3-a568-00c40eaa531f",
   "metadata": {},
   "outputs": [],
   "source": [
    "pip install ."
   ]
  },
  {
   "cell_type": "code",
   "execution_count": null,
   "id": "2947031a-76d2-47da-a551-06199bb033f4",
   "metadata": {},
   "outputs": [],
   "source": [
    "import os\n",
    "import urllib.request\n",
    "\n",
    "# Create a directory for the weights in the current working directory\n",
    "weights_dir = os.path.join(os.getcwd(), \"weights\")\n",
    "os.makedirs(weights_dir, exist_ok=True)\n",
    "\n",
    "# URLs of the weight files\n",
    "urls = [\n",
    "    \"https://github.com/jameslahm/yolov10/releases/download/v1.0/yolov10n.pt\",\n",
    "    \"https://github.com/jameslahm/yolov10/releases/download/v1.0/yolov10s.pt\",\n",
    "    \"https://github.com/jameslahm/yolov10/releases/download/v1.0/yolov10m.pt\",\n",
    "    \"https://github.com/jameslahm/yolov10/releases/download/v1.0/yolov10b.pt\",\n",
    "    \"https://github.com/jameslahm/yolov10/releases/download/v1.0/yolov10x.pt\",\n",
    "    \"https://github.com/jameslahm/yolov10/releases/download/v1.0/yolov10l.pt\"\n",
    "]\n",
    "\n",
    "# Download each file\n",
    "for url in urls:\n",
    "    file_name = os.path.join(weights_dir, os.path.basename(url))\n",
    "    urllib.request.urlretrieve(url, file_name)\n",
    "    print(f\"Downloaded {file_name}\")"
   ]
  },
  {
   "cell_type": "code",
   "execution_count": null,
   "id": "eb2522fa-f54a-42d1-ac29-7463decda287",
   "metadata": {},
   "outputs": [],
   "source": [
    "%cd /workspace/datasets/datasets/datasets"
   ]
  },
  {
   "cell_type": "code",
   "execution_count": null,
   "id": "aa1a246e-5ccc-4f29-9dbb-9286621af249",
   "metadata": {},
   "outputs": [],
   "source": [
    "!pip install roboflow\n",
    "\n",
    "from roboflow import Roboflow\n",
    "rf = Roboflow(api_key=\"your api key\")\n",
    "project = rf.workspace(\"fight-detection\").project(\"fight-detection-new\")\n",
    "version = project.version(11)\n",
    "dataset = version.download(\"yolov8\")"
   ]
  },
  {
   "cell_type": "code",
   "execution_count": null,
   "id": "43e1629e-4192-4791-9f14-a60c0b7af31c",
   "metadata": {},
   "outputs": [],
   "source": [
    "!pip install huggingface_hub"
   ]
  },
  {
   "cell_type": "code",
   "execution_count": null,
   "id": "22bdb779-176c-43fa-814f-b70bf208566b",
   "metadata": {},
   "outputs": [],
   "source": [
    "!yolo task=detect mode=train epochs=100 batch=-1 plots=True save=True patience=50 model=/workspace/yolov10/weights/yolov10b.pt data=Fight-Detection-New-11/data.yaml \n",
    "#"
   ]
  },
  {
   "cell_type": "code",
   "execution_count": null,
   "id": "341252a4-e803-4ba2-b441-a071062e3274",
   "metadata": {},
   "outputs": [],
   "source": [
    "!yolo val model=/workspace/datasets/datasets/datasets/runs/detect/train/weights/best.pt data=Fight-Detection-New-11/data.yaml split=test\n"
   ]
  },
  {
   "cell_type": "code",
   "execution_count": null,
   "id": "0205e86d-6654-482c-a418-6a0f5499b48c",
   "metadata": {},
   "outputs": [],
   "source": [
    "!yolo task=detect mode=predict conf=0.25 save=True show=True model=/workspace/datasets/datasets/datasets/runs/detect/train/weights/best.pt source=21.avi\n",
    "#"
   ]
  },
  {
   "cell_type": "markdown",
   "id": "786c310d-3f1b-46e8-9723-bc366dc41308",
   "metadata": {},
   "source": [
    "#### YOLOv10 Implementation"
   ]
  },
  {
   "cell_type": "code",
   "execution_count": null,
   "id": "c8309112-8652-44ec-a7be-882645fb5119",
   "metadata": {},
   "outputs": [],
   "source": [
    "!git clone https://github.com/THU-MIG/yolov10.git"
   ]
  },
  {
   "cell_type": "code",
   "execution_count": null,
   "id": "83a24290-aa64-45a5-87f2-9f368707e22d",
   "metadata": {},
   "outputs": [],
   "source": [
    "%cd yolov10"
   ]
  },
  {
   "cell_type": "code",
   "execution_count": null,
   "id": "6b76ea5e-dfd3-4617-9ae4-6fc02b39145a",
   "metadata": {},
   "outputs": [],
   "source": [
    "!pip install ."
   ]
  },
  {
   "cell_type": "code",
   "execution_count": null,
   "id": "0b527c41-01c6-4ffd-87fc-33fd02270dac",
   "metadata": {},
   "outputs": [],
   "source": [
    "!yolo task=detect mode=predict conf=0.25 save=True model='model path' source='source video path'"
   ]
  }
 ],
 "metadata": {
  "kernelspec": {
   "display_name": "Python 3 (ipykernel)",
   "language": "python",
   "name": "python3"
  },
  "language_info": {
   "codemirror_mode": {
    "name": "ipython",
    "version": 3
   },
   "file_extension": ".py",
   "mimetype": "text/x-python",
   "name": "python",
   "nbconvert_exporter": "python",
   "pygments_lexer": "ipython3",
   "version": "3.9.18"
  }
 },
 "nbformat": 4,
 "nbformat_minor": 5
}
